{
 "cells": [
  {
   "cell_type": "code",
   "execution_count": 1,
   "metadata": {},
   "outputs": [],
   "source": [
    "import numpy as np\n",
    "import scipy as sp\n",
    "import scipy.signal as sig\n",
    "import matplotlib.pyplot as plt\n",
    "import tensorflow as tf\n",
    "import tensorflow.keras as keras\n",
    "from tensorflow.keras import layers, regularizers, callbacks\n",
    "from data_wrangling.datamanager import DataLoader\n",
    "import pickle\n",
    "import sys"
   ]
  },
  {
   "cell_type": "code",
   "execution_count": 2,
   "metadata": {},
   "outputs": [],
   "source": [
    "dl = DataLoader()\n",
    "data = dl.get_fcx2(['s1'])"
   ]
  },
  {
   "cell_type": "code",
   "execution_count": 3,
   "metadata": {},
   "outputs": [
    {
     "data": {
      "text/plain": [
       "(1303952, 73)"
      ]
     },
     "execution_count": 3,
     "metadata": {},
     "output_type": "execute_result"
    }
   ],
   "source": [
    "X1 = data['s1']['data']\n",
    "mn = X1.mean(0).reshape((1, -1))\n",
    "st = X1.std (0).reshape((1, -1))\n",
    "X1 = (X1 - mn) / st\n",
    "X1.shape"
   ]
  },
  {
   "cell_type": "code",
   "execution_count": 5,
   "metadata": {},
   "outputs": [
    {
     "data": {
      "text/plain": [
       "((60844, 100, 73), (60844, 10, 73))"
      ]
     },
     "execution_count": 5,
     "metadata": {},
     "output_type": "execute_result"
    }
   ],
   "source": [
    "fs = 1000\n",
    "\n",
    "idxs_train_test_split = int(len(X1) * 0.7)\n",
    "\n",
    "p_in  = 100\n",
    "p_out = 10\n",
    "\n",
    "step  = 15\n",
    "\n",
    "idxs_train = np.arange(0, idxs_train_test_split - p_out - p_in, step)\n",
    "\n",
    "X = np.stack([\n",
    "    X1[idx : idx + p_in]\n",
    "    for idx in idxs_train\n",
    "])\n",
    "\n",
    "Y = np.stack([\n",
    "    X1[idx + p_in : idx + p_in + p_out]\n",
    "    for idx in idxs_train\n",
    "])\n",
    "\n",
    "X.shape, Y.shape"
   ]
  },
  {
   "cell_type": "code",
   "execution_count": 9,
   "metadata": {},
   "outputs": [
    {
     "name": "stdout",
     "output_type": "stream",
     "text": [
      "Model: \"sequential_1\"\n",
      "_________________________________________________________________\n",
      "Layer (type)                 Output Shape              Param #   \n",
      "=================================================================\n",
      "bidirectional_2 (Bidirection (None, 100, 128)          70656     \n",
      "_________________________________________________________________\n",
      "lambda (Lambda)              (None, 10, 128)           0         \n",
      "_________________________________________________________________\n",
      "bidirectional_3 (Bidirection (None, 10, 128)           98816     \n",
      "_________________________________________________________________\n",
      "dense_1 (Dense)              (None, 10, 73)            9417      \n",
      "=================================================================\n",
      "Total params: 178,889\n",
      "Trainable params: 178,889\n",
      "Non-trainable params: 0\n",
      "_________________________________________________________________\n"
     ]
    }
   ],
   "source": [
    "model = keras.Sequential([\n",
    "    layers.Input(X.shape[1:]),\n",
    "    layers.Bidirectional(\n",
    "        layers.LSTM(\n",
    "            64, \n",
    "            return_sequences = True\n",
    "        )\n",
    "    ),\n",
    "    layers.Lambda(lambda inputs: inputs[:, -p_out:, :]),\n",
    "    layers.Bidirectional(\n",
    "        layers.LSTM(\n",
    "            64, \n",
    "            return_sequences = True\n",
    "        )\n",
    "    ),\n",
    "    layers.Dense(Y.shape[-1])\n",
    "])\n",
    "\n",
    "model.compile(loss = 'mse', optimizer = 'adam')\n",
    "model.summary()"
   ]
  },
  {
   "cell_type": "code",
   "execution_count": 10,
   "metadata": {},
   "outputs": [
    {
     "name": "stdout",
     "output_type": "stream",
     "text": [
      "Epoch 1/50\n",
      "24/24 [==============================] - 8s 167ms/step - loss: 0.8719 - val_loss: 0.5511\n",
      "Epoch 2/50\n",
      "24/24 [==============================] - 3s 120ms/step - loss: 0.4426 - val_loss: 0.3668\n",
      "Epoch 3/50\n",
      "24/24 [==============================] - 3s 120ms/step - loss: 0.3041 - val_loss: 0.2841\n",
      "Epoch 4/50\n",
      "24/24 [==============================] - 3s 123ms/step - loss: 0.2417 - val_loss: 0.2390\n",
      "Epoch 5/50\n",
      "24/24 [==============================] - 3s 120ms/step - loss: 0.2058 - val_loss: 0.2098\n",
      "Epoch 6/50\n",
      "24/24 [==============================] - 3s 120ms/step - loss: 0.1812 - val_loss: 0.1914\n",
      "Epoch 7/50\n",
      "24/24 [==============================] - 3s 118ms/step - loss: 0.1644 - val_loss: 0.1753\n",
      "Epoch 8/50\n",
      "24/24 [==============================] - 3s 119ms/step - loss: 0.1515 - val_loss: 0.1657\n",
      "Epoch 9/50\n",
      "24/24 [==============================] - 3s 120ms/step - loss: 0.1428 - val_loss: 0.1586\n",
      "Epoch 10/50\n",
      "24/24 [==============================] - 3s 120ms/step - loss: 0.1343 - val_loss: 0.1491\n",
      "Epoch 11/50\n",
      "24/24 [==============================] - 3s 120ms/step - loss: 0.1268 - val_loss: 0.1407\n",
      "Epoch 12/50\n",
      "24/24 [==============================] - 3s 120ms/step - loss: 0.1215 - val_loss: 0.1356\n",
      "Epoch 13/50\n",
      "24/24 [==============================] - 3s 121ms/step - loss: 0.1152 - val_loss: 0.1287\n",
      "Epoch 14/50\n",
      "24/24 [==============================] - 3s 122ms/step - loss: 0.1100 - val_loss: 0.1248\n",
      "Epoch 15/50\n",
      "24/24 [==============================] - 3s 123ms/step - loss: 0.1061 - val_loss: 0.1191\n",
      "Epoch 16/50\n",
      "24/24 [==============================] - 3s 122ms/step - loss: 0.1025 - val_loss: 0.1162\n",
      "Epoch 17/50\n",
      "24/24 [==============================] - 3s 121ms/step - loss: 0.0984 - val_loss: 0.1124\n",
      "Epoch 18/50\n",
      "24/24 [==============================] - 3s 124ms/step - loss: 0.0956 - val_loss: 0.1094\n",
      "Epoch 19/50\n",
      "24/24 [==============================] - 3s 121ms/step - loss: 0.0935 - val_loss: 0.1071\n",
      "Epoch 20/50\n",
      "24/24 [==============================] - 3s 121ms/step - loss: 0.0909 - val_loss: 0.1061\n",
      "Epoch 21/50\n",
      "24/24 [==============================] - 3s 121ms/step - loss: 0.0894 - val_loss: 0.1029\n",
      "Epoch 22/50\n",
      "24/24 [==============================] - 3s 122ms/step - loss: 0.0874 - val_loss: 0.1029\n",
      "Epoch 23/50\n",
      "24/24 [==============================] - 3s 123ms/step - loss: 0.0861 - val_loss: 0.0988\n",
      "Epoch 24/50\n",
      "24/24 [==============================] - 3s 121ms/step - loss: 0.0841 - val_loss: 0.0973\n",
      "Epoch 25/50\n",
      "24/24 [==============================] - 3s 119ms/step - loss: 0.0836 - val_loss: 0.0962\n",
      "Epoch 26/50\n",
      "24/24 [==============================] - 3s 123ms/step - loss: 0.0816 - val_loss: 0.0951\n",
      "Epoch 27/50\n",
      "24/24 [==============================] - 3s 120ms/step - loss: 0.0798 - val_loss: 0.0932\n",
      "Epoch 28/50\n",
      "24/24 [==============================] - 3s 119ms/step - loss: 0.0787 - val_loss: 0.0915\n",
      "Epoch 29/50\n",
      "24/24 [==============================] - 3s 119ms/step - loss: 0.0786 - val_loss: 0.0913\n",
      "Epoch 30/50\n",
      "24/24 [==============================] - 3s 121ms/step - loss: 0.0767 - val_loss: 0.0905\n"
     ]
    }
   ],
   "source": [
    "hist = model.fit(\n",
    "    X,\n",
    "    Y,\n",
    "    epochs = 50,\n",
    "    batch_size = 2048,\n",
    "    validation_split = 0.2,\n",
    "    callbacks = [callbacks.EarlyStopping(min_delta = 1e-3, patience = 2)]\n",
    ")"
   ]
  },
  {
   "cell_type": "code",
   "execution_count": 12,
   "metadata": {},
   "outputs": [
    {
     "name": "stdout",
     "output_type": "stream",
     "text": [
      "Epoch 1/50\n",
      "333/333 [==============================] - 7s 21ms/step - loss: 0.0808 - val_loss: 0.0840\n",
      "Epoch 2/50\n",
      "333/333 [==============================] - 7s 20ms/step - loss: 0.0720 - val_loss: 0.0785\n",
      "Epoch 3/50\n",
      "333/333 [==============================] - 7s 20ms/step - loss: 0.0674 - val_loss: 0.0737\n",
      "Epoch 4/50\n",
      "333/333 [==============================] - 6s 19ms/step - loss: 0.0641 - val_loss: 0.0717\n",
      "Epoch 5/50\n",
      "333/333 [==============================] - 6s 18ms/step - loss: 0.0611 - val_loss: 0.0685\n",
      "Epoch 6/50\n",
      "333/333 [==============================] - 6s 18ms/step - loss: 0.0594 - val_loss: 0.0672\n",
      "Epoch 7/50\n",
      "333/333 [==============================] - 6s 18ms/step - loss: 0.0573 - val_loss: 0.0671\n",
      "Epoch 8/50\n",
      "333/333 [==============================] - 6s 18ms/step - loss: 0.0573 - val_loss: 0.0722\n",
      "Epoch 9/50\n",
      "333/333 [==============================] - 6s 18ms/step - loss: 0.0557 - val_loss: 0.0643\n",
      "Epoch 10/50\n",
      "333/333 [==============================] - 6s 18ms/step - loss: 0.0538 - val_loss: 0.0627\n",
      "Epoch 11/50\n",
      "333/333 [==============================] - 6s 18ms/step - loss: 0.0562 - val_loss: 0.0824\n",
      "Epoch 12/50\n",
      "333/333 [==============================] - 6s 18ms/step - loss: 0.0566 - val_loss: 0.0618\n",
      "Epoch 13/50\n",
      "333/333 [==============================] - 6s 18ms/step - loss: 0.0526 - val_loss: 0.0612\n",
      "Epoch 14/50\n",
      "333/333 [==============================] - 6s 19ms/step - loss: 0.0512 - val_loss: 0.0618\n",
      "Epoch 15/50\n",
      "333/333 [==============================] - 6s 18ms/step - loss: 0.0508 - val_loss: 0.0608\n",
      "Epoch 16/50\n",
      "333/333 [==============================] - 6s 19ms/step - loss: 0.0500 - val_loss: 0.0583\n",
      "Epoch 17/50\n",
      "333/333 [==============================] - 6s 19ms/step - loss: 0.0492 - val_loss: 0.0584\n",
      "Epoch 18/50\n",
      "333/333 [==============================] - 6s 19ms/step - loss: 0.0487 - val_loss: 0.0586\n",
      "Epoch 19/50\n",
      "333/333 [==============================] - 6s 19ms/step - loss: 0.0618 - val_loss: 0.0631\n",
      "Epoch 20/50\n",
      "333/333 [==============================] - 6s 18ms/step - loss: 0.0512 - val_loss: 0.0592\n"
     ]
    }
   ],
   "source": [
    "hist = model.fit(\n",
    "    X,\n",
    "    Y,\n",
    "    epochs = 50,\n",
    "    batch_size = 128,\n",
    "    validation_split = 0.3,\n",
    "    callbacks = [callbacks.EarlyStopping(min_delta = 5e-4, patience = 4)]\n",
    ")"
   ]
  },
  {
   "cell_type": "code",
   "execution_count": 13,
   "metadata": {},
   "outputs": [],
   "source": [
    "pred = []\n",
    "real = []\n",
    "for idx in range(idxs_train_test_split, len(X1) - p_out - p_in, p_out):\n",
    "    x = X1[idx : idx + p_in].reshape((1, p_in, -1))\n",
    "    y = X1[idx + p_in : idx + p_in + p_out]\n",
    "    pred.append(x)\n",
    "    real.append(y)\n",
    "    \n",
    "per_stride = 2048\n",
    "strides = 1 + len(pred) // per_stride\n",
    "pred = np.concatenate([\n",
    "    model(\n",
    "        np.concatenate(pred[stride * per_stride : (stride + 1) * per_stride])\n",
    "    ).numpy()\n",
    "    for stride in range(strides)\n",
    "])\n",
    "\n",
    "real = np.stack(real)"
   ]
  }
 ],
 "metadata": {
  "kernelspec": {
   "display_name": "Python 3.6.9 64-bit",
   "language": "python",
   "name": "python36964bite8c2268c4d7745c494921b3032b5f046"
  },
  "language_info": {
   "codemirror_mode": {
    "name": "ipython",
    "version": 3
   },
   "file_extension": ".py",
   "mimetype": "text/x-python",
   "name": "python",
   "nbconvert_exporter": "python",
   "pygments_lexer": "ipython3",
   "version": "3.6.9"
  }
 },
 "nbformat": 4,
 "nbformat_minor": 4
}

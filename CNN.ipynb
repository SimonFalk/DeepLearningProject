{
 "cells": [
  {
   "cell_type": "code",
   "execution_count": 1,
   "metadata": {},
   "outputs": [],
   "source": [
    "import numpy as np\n",
    "import scipy as sp\n",
    "import scipy.io as sio\n",
    "from scipy import signal\n",
    "import matplotlib.pyplot as plt\n",
    "import tensorflow as tf\n",
    "from tensorflow import keras\n",
    "from tensorflow.keras import layers\n",
    "import pickle\n",
    "\n",
    "from sklearn.manifold import TSNE\n",
    "from sklearn.decomposition import PCA\n",
    "from umap import UMAP"
   ]
  },
  {
   "cell_type": "code",
   "execution_count": 2,
   "metadata": {},
   "outputs": [
    {
     "data": {
      "text/plain": [
       "916"
      ]
     },
     "execution_count": 2,
     "metadata": {},
     "output_type": "execute_result"
    }
   ],
   "source": [
    "files = !ls /media/big/spectra\n",
    "files = [f'/media/big/spectra/{f}' for f in files]\n",
    "len(files)"
   ]
  },
  {
   "cell_type": "code",
   "execution_count": 3,
   "metadata": {},
   "outputs": [
    {
     "name": "stdout",
     "output_type": "stream",
     "text": [
      "(5078978, 369) (5078978,)\n"
     ]
    }
   ],
   "source": [
    "freqs = np.fft.fftfreq(2 ** 16, 1 / 16000)\n",
    "freqs_idxs = (freqs >= 10) & (freqs <= 100)\n",
    "freqs = freqs[freqs_idxs]\n",
    "freqs_idxs = (freqs >= 10) & (freqs <= 100)\n",
    "\n",
    "try:\n",
    "    X = np.load('X.npy')\n",
    "    Y = np.load('Y.npy')\n",
    "    mnX = np.load('mnX.npy')\n",
    "    stX = np.load('stX.npy')\n",
    "\n",
    "except:\n",
    "    X = []\n",
    "    Y = []\n",
    "    for idx, f in enumerate(files):\n",
    "        arr = np.load(f)\n",
    "        X.append(arr[::20, freqs_idxs])\n",
    "        for _ in range(len(arr[::20])):\n",
    "            Y.append(idx)\n",
    "\n",
    "    X = np.concatenate(X)\n",
    "    Y = np.array(Y)\n",
    "\n",
    "    mnX = X.mean(0).reshape((1, -1))\n",
    "    stX = X.std (0).reshape((1, -1))\n",
    "\n",
    "    X -= mnX\n",
    "    X /= stX\n",
    "\n",
    "    np.save('mnX', mnX)\n",
    "    np.save('stX', stX)\n",
    "    np.save('X', X)\n",
    "    np.save('Y', Y)\n",
    "\n",
    "print(X.shape, Y.shape)"
   ]
  },
  {
   "cell_type": "code",
   "execution_count": 4,
   "metadata": {},
   "outputs": [
    {
     "data": {
      "text/plain": [
       "array([0.20581471, 0.2773456 , 0.33571487, 0.39136264, 0.44166363,\n",
       "       0.48797191, 0.53130338, 0.57187992, 0.61165775, 0.64868533,\n",
       "       0.68438381, 0.71804078, 0.75000287, 0.78040423, 0.80895596,\n",
       "       0.83545723, 0.86062185, 0.88417961, 0.90585487, 0.92592705,\n",
       "       0.94384902, 0.96002274, 0.97451584, 0.98328626, 0.98661327,\n",
       "       0.98799482, 0.9891463 , 0.99016634, 0.99108563, 0.99192572])"
      ]
     },
     "execution_count": 4,
     "metadata": {},
     "output_type": "execute_result"
    }
   ],
   "source": [
    "try:\n",
    "    with open('pca.pickle', 'rb') as fp:\n",
    "        obj = pickle.load(fp)\n",
    "        pca = obj['pca']\n",
    "\n",
    "except:\n",
    "    pca = PCA(30).fit(X[::10])\n",
    "    with open('pca.pickle', 'wb') as fp:\n",
    "        pickle.dump({\n",
    "            'pca': pca\n",
    "        }, fp)\n",
    "pca.explained_variance_ratio_.cumsum()"
   ]
  },
  {
   "cell_type": "code",
   "execution_count": 5,
   "metadata": {},
   "outputs": [
    {
     "data": {
      "text/plain": [
       "((276577, 100, 30), (276577, 10, 30))"
      ]
     },
     "execution_count": 5,
     "metadata": {},
     "output_type": "execute_result"
    }
   ],
   "source": [
    "X = []\n",
    "Y = []\n",
    "\n",
    "fs = 1000\n",
    "subsample = 10\n",
    "fs = int(fs / subsample)\n",
    "\n",
    "t_in  = 1 * fs\n",
    "t_out = int(0.1 * fs)\n",
    "\n",
    "try:\n",
    "    X = np.load('X_train.npy')\n",
    "    Y = np.load('Y_train.npy')\n",
    "\n",
    "except:\n",
    "    for idx, f in enumerate(files):\n",
    "        arr = np.load(f)[::subsample]\n",
    "        arr -= mnX\n",
    "        arr /= stX\n",
    "        arr = pca.transform(arr)\n",
    "\n",
    "        n_rand = int(len(arr) * 3 / (t_in + t_out))\n",
    "\n",
    "        idxs = np.arange(len(arr) - (t_in + t_out))\n",
    "        np.random.shuffle(idxs)\n",
    "        idxs = idxs[:n_rand]\n",
    "\n",
    "        for idx in idxs:\n",
    "            x = arr[idx : idx + t_in]\n",
    "            y = arr[idx + t_in : idx + t_in + t_out]\n",
    "            X.append(x)\n",
    "            Y.append(y)\n",
    "\n",
    "    X = np.stack(X)\n",
    "    Y = np.stack(Y)\n",
    "\n",
    "    np.save('X_train', X)\n",
    "    np.save('Y_train', Y)\n",
    "\n",
    "X.shape, Y.shape"
   ]
  },
  {
   "cell_type": "code",
   "execution_count": 6,
   "metadata": {},
   "outputs": [
    {
     "name": "stdout",
     "output_type": "stream",
     "text": [
      "Model: \"sequential\"\n",
      "_________________________________________________________________\n",
      "Layer (type)                 Output Shape              Param #   \n",
      "=================================================================\n",
      "reshape (Reshape)            (None, 100, 30, 1)        0         \n",
      "_________________________________________________________________\n",
      "conv2d (Conv2D)              (None, 98, 28, 64)        640       \n",
      "_________________________________________________________________\n",
      "conv2d_1 (Conv2D)            (None, 96, 26, 32)        18464     \n",
      "_________________________________________________________________\n",
      "max_pooling2d (MaxPooling2D) (None, 48, 13, 32)        0         \n",
      "_________________________________________________________________\n",
      "batch_normalization (BatchNo (None, 48, 13, 32)        128       \n",
      "_________________________________________________________________\n",
      "conv2d_2 (Conv2D)            (None, 46, 11, 64)        18496     \n",
      "_________________________________________________________________\n",
      "conv2d_3 (Conv2D)            (None, 44, 9, 32)         18464     \n",
      "_________________________________________________________________\n",
      "max_pooling2d_1 (MaxPooling2 (None, 22, 4, 32)         0         \n",
      "_________________________________________________________________\n",
      "batch_normalization_1 (Batch (None, 22, 4, 32)         128       \n",
      "_________________________________________________________________\n",
      "flatten (Flatten)            (None, 2816)              0         \n",
      "_________________________________________________________________\n",
      "dense (Dense)                (None, 128)               360576    \n",
      "_________________________________________________________________\n",
      "dropout (Dropout)            (None, 128)               0         \n",
      "_________________________________________________________________\n",
      "batch_normalization_2 (Batch (None, 128)               512       \n",
      "_________________________________________________________________\n",
      "dense_1 (Dense)              (None, 64)                8256      \n",
      "_________________________________________________________________\n",
      "dropout_1 (Dropout)          (None, 64)                0         \n",
      "_________________________________________________________________\n",
      "batch_normalization_3 (Batch (None, 64)                256       \n",
      "_________________________________________________________________\n",
      "dense_2 (Dense)              (None, 300)               19500     \n",
      "_________________________________________________________________\n",
      "reshape_1 (Reshape)          (None, 10, 30)            0         \n",
      "=================================================================\n",
      "Total params: 445,420\n",
      "Trainable params: 444,908\n",
      "Non-trainable params: 512\n",
      "_________________________________________________________________\n"
     ]
    }
   ],
   "source": [
    "n_dim = 30\n",
    "\n",
    "model = keras.Sequential([\n",
    "    # Input and reshaping\n",
    "    layers.Input  ((t_in, n_dim)),\n",
    "    layers.Reshape((t_in, n_dim, 1)),\n",
    "    \n",
    "    # Convolutionals 1\n",
    "    layers.Conv2D(\n",
    "        activation = 'relu',\n",
    "        filters = 64,\n",
    "        kernel_size = 3,\n",
    "        strides = 1\n",
    "    ),\n",
    "    layers.Conv2D(\n",
    "        activation = 'relu',\n",
    "        filters = 32,\n",
    "        kernel_size = 3,\n",
    "        strides = 1\n",
    "    ),\n",
    "    layers.MaxPooling2D(),\n",
    "    layers.BatchNormalization(),\n",
    "    \n",
    "    # Convolutionals 2\n",
    "    layers.Conv2D(\n",
    "        activation = 'relu',\n",
    "        filters = 64,\n",
    "        kernel_size = 3,\n",
    "        strides = 1\n",
    "    ),\n",
    "    layers.Conv2D(\n",
    "        activation = 'relu',\n",
    "        filters = 32,\n",
    "        kernel_size = 3,\n",
    "        strides = 1\n",
    "    ),\n",
    "    layers.MaxPooling2D(),\n",
    "    layers.BatchNormalization(),\n",
    "    \n",
    "    # Flatten\n",
    "    layers.Flatten(),\n",
    "    \n",
    "    # Fully connected\n",
    "    layers.Dense(128, activation = 'relu'),\n",
    "    layers.Dropout(0.3),\n",
    "    layers.BatchNormalization(),\n",
    "    \n",
    "    layers.Dense(64, activation = 'relu'),\n",
    "    layers.Dropout(0.3),\n",
    "    layers.BatchNormalization(),\n",
    "    \n",
    "    layers.Dense(n_dim * t_out),\n",
    "    layers.Reshape((t_out, n_dim))\n",
    "])\n",
    "\n",
    "model.compile(loss = 'mse', optimizer = 'adam')\n",
    "model.summary()"
   ]
  },
  {
   "cell_type": "code",
   "execution_count": 7,
   "metadata": {},
   "outputs": [
    {
     "name": "stdout",
     "output_type": "stream",
     "text": [
      "Epoch 1/50\n",
      "487/487 [==============================] - 42s 80ms/step - loss: 11.0429 - val_loss: 10.5224\n",
      "Epoch 2/50\n",
      "487/487 [==============================] - 38s 78ms/step - loss: 10.0187 - val_loss: 10.3583\n",
      "Epoch 3/50\n",
      "487/487 [==============================] - 38s 79ms/step - loss: 9.7825 - val_loss: 9.8472\n",
      "Epoch 4/50\n",
      "487/487 [==============================] - 38s 79ms/step - loss: 9.6791 - val_loss: 9.6227\n",
      "Epoch 5/50\n",
      "487/487 [==============================] - 38s 79ms/step - loss: 9.5953 - val_loss: 9.6473\n",
      "Epoch 6/50\n",
      "487/487 [==============================] - 38s 79ms/step - loss: 9.5534 - val_loss: 9.5778\n",
      "Epoch 7/50\n",
      "487/487 [==============================] - 38s 79ms/step - loss: 9.4906 - val_loss: 9.5285\n",
      "Epoch 8/50\n",
      "487/487 [==============================] - 38s 79ms/step - loss: 9.4419 - val_loss: 9.4629\n",
      "Epoch 9/50\n",
      "487/487 [==============================] - 39s 79ms/step - loss: 9.4412 - val_loss: 9.4275\n",
      "Epoch 10/50\n",
      "487/487 [==============================] - 39s 79ms/step - loss: 9.4017 - val_loss: 9.4860\n",
      "Epoch 11/50\n",
      "487/487 [==============================] - 39s 79ms/step - loss: 9.3946 - val_loss: 9.5045\n",
      "Epoch 12/50\n",
      "487/487 [==============================] - 39s 80ms/step - loss: 9.3774 - val_loss: 9.4130\n",
      "Epoch 13/50\n",
      "487/487 [==============================] - 38s 79ms/step - loss: 9.3514 - val_loss: 9.4153\n",
      "Epoch 14/50\n",
      "487/487 [==============================] - 38s 79ms/step - loss: 9.3563 - val_loss: 9.4552\n",
      "Epoch 15/50\n",
      "487/487 [==============================] - 39s 80ms/step - loss: 9.3193 - val_loss: 9.4612\n",
      "Epoch 16/50\n",
      "487/487 [==============================] - 38s 77ms/step - loss: 9.3310 - val_loss: 9.3793\n",
      "Epoch 17/50\n",
      "487/487 [==============================] - 37s 76ms/step - loss: 9.2867 - val_loss: 9.3892\n",
      "Epoch 18/50\n",
      "487/487 [==============================] - 38s 78ms/step - loss: 9.2920 - val_loss: 9.4069\n",
      "Epoch 19/50\n",
      "487/487 [==============================] - 37s 75ms/step - loss: 9.2686 - val_loss: 9.3871\n",
      "Epoch 20/50\n",
      "487/487 [==============================] - 37s 75ms/step - loss: 9.2562 - val_loss: 9.3884\n",
      "Epoch 21/50\n",
      "487/487 [==============================] - 37s 76ms/step - loss: 9.2771 - val_loss: 9.4276\n",
      "Epoch 22/50\n",
      "487/487 [==============================] - 37s 75ms/step - loss: 9.2431 - val_loss: 9.3919\n",
      "Epoch 23/50\n",
      "429/487 [=========================>....] - ETA: 4s - loss: 9.2337"
     ]
    },
    {
     "ename": "KeyboardInterrupt",
     "evalue": "",
     "output_type": "error",
     "traceback": [
      "\u001b[0;31m---------------------------------------------------------------------------\u001b[0m",
      "\u001b[0;31mKeyboardInterrupt\u001b[0m                         Traceback (most recent call last)",
      "\u001b[0;32m<ipython-input-7-6dc8f18a7aa5>\u001b[0m in \u001b[0;36m<module>\u001b[0;34m\u001b[0m\n\u001b[1;32m      3\u001b[0m     \u001b[0mepochs\u001b[0m \u001b[0;34m=\u001b[0m \u001b[0;36m50\u001b[0m\u001b[0;34m,\u001b[0m\u001b[0;34m\u001b[0m\u001b[0;34m\u001b[0m\u001b[0m\n\u001b[1;32m      4\u001b[0m     \u001b[0mvalidation_split\u001b[0m \u001b[0;34m=\u001b[0m \u001b[0;36m0.1\u001b[0m\u001b[0;34m,\u001b[0m\u001b[0;34m\u001b[0m\u001b[0;34m\u001b[0m\u001b[0m\n\u001b[0;32m----> 5\u001b[0;31m     \u001b[0mbatch_size\u001b[0m \u001b[0;34m=\u001b[0m \u001b[0;36m512\u001b[0m\u001b[0;34m\u001b[0m\u001b[0;34m\u001b[0m\u001b[0m\n\u001b[0m\u001b[1;32m      6\u001b[0m )\n",
      "\u001b[0;32m~/.local/lib/python3.6/site-packages/tensorflow/python/keras/engine/training.py\u001b[0m in \u001b[0;36mfit\u001b[0;34m(self, x, y, batch_size, epochs, verbose, callbacks, validation_split, validation_data, shuffle, class_weight, sample_weight, initial_epoch, steps_per_epoch, validation_steps, validation_batch_size, validation_freq, max_queue_size, workers, use_multiprocessing)\u001b[0m\n\u001b[1;32m   1098\u001b[0m                 _r=1):\n\u001b[1;32m   1099\u001b[0m               \u001b[0mcallbacks\u001b[0m\u001b[0;34m.\u001b[0m\u001b[0mon_train_batch_begin\u001b[0m\u001b[0;34m(\u001b[0m\u001b[0mstep\u001b[0m\u001b[0;34m)\u001b[0m\u001b[0;34m\u001b[0m\u001b[0;34m\u001b[0m\u001b[0m\n\u001b[0;32m-> 1100\u001b[0;31m               \u001b[0mtmp_logs\u001b[0m \u001b[0;34m=\u001b[0m \u001b[0mself\u001b[0m\u001b[0;34m.\u001b[0m\u001b[0mtrain_function\u001b[0m\u001b[0;34m(\u001b[0m\u001b[0miterator\u001b[0m\u001b[0;34m)\u001b[0m\u001b[0;34m\u001b[0m\u001b[0;34m\u001b[0m\u001b[0m\n\u001b[0m\u001b[1;32m   1101\u001b[0m               \u001b[0;32mif\u001b[0m \u001b[0mdata_handler\u001b[0m\u001b[0;34m.\u001b[0m\u001b[0mshould_sync\u001b[0m\u001b[0;34m:\u001b[0m\u001b[0;34m\u001b[0m\u001b[0;34m\u001b[0m\u001b[0m\n\u001b[1;32m   1102\u001b[0m                 \u001b[0mcontext\u001b[0m\u001b[0;34m.\u001b[0m\u001b[0masync_wait\u001b[0m\u001b[0;34m(\u001b[0m\u001b[0;34m)\u001b[0m\u001b[0;34m\u001b[0m\u001b[0;34m\u001b[0m\u001b[0m\n",
      "\u001b[0;32m~/.local/lib/python3.6/site-packages/tensorflow/python/eager/def_function.py\u001b[0m in \u001b[0;36m__call__\u001b[0;34m(self, *args, **kwds)\u001b[0m\n\u001b[1;32m    826\u001b[0m     \u001b[0mtracing_count\u001b[0m \u001b[0;34m=\u001b[0m \u001b[0mself\u001b[0m\u001b[0;34m.\u001b[0m\u001b[0mexperimental_get_tracing_count\u001b[0m\u001b[0;34m(\u001b[0m\u001b[0;34m)\u001b[0m\u001b[0;34m\u001b[0m\u001b[0;34m\u001b[0m\u001b[0m\n\u001b[1;32m    827\u001b[0m     \u001b[0;32mwith\u001b[0m \u001b[0mtrace\u001b[0m\u001b[0;34m.\u001b[0m\u001b[0mTrace\u001b[0m\u001b[0;34m(\u001b[0m\u001b[0mself\u001b[0m\u001b[0;34m.\u001b[0m\u001b[0m_name\u001b[0m\u001b[0;34m)\u001b[0m \u001b[0;32mas\u001b[0m \u001b[0mtm\u001b[0m\u001b[0;34m:\u001b[0m\u001b[0;34m\u001b[0m\u001b[0;34m\u001b[0m\u001b[0m\n\u001b[0;32m--> 828\u001b[0;31m       \u001b[0mresult\u001b[0m \u001b[0;34m=\u001b[0m \u001b[0mself\u001b[0m\u001b[0;34m.\u001b[0m\u001b[0m_call\u001b[0m\u001b[0;34m(\u001b[0m\u001b[0;34m*\u001b[0m\u001b[0margs\u001b[0m\u001b[0;34m,\u001b[0m \u001b[0;34m**\u001b[0m\u001b[0mkwds\u001b[0m\u001b[0;34m)\u001b[0m\u001b[0;34m\u001b[0m\u001b[0;34m\u001b[0m\u001b[0m\n\u001b[0m\u001b[1;32m    829\u001b[0m       \u001b[0mcompiler\u001b[0m \u001b[0;34m=\u001b[0m \u001b[0;34m\"xla\"\u001b[0m \u001b[0;32mif\u001b[0m \u001b[0mself\u001b[0m\u001b[0;34m.\u001b[0m\u001b[0m_experimental_compile\u001b[0m \u001b[0;32melse\u001b[0m \u001b[0;34m\"nonXla\"\u001b[0m\u001b[0;34m\u001b[0m\u001b[0;34m\u001b[0m\u001b[0m\n\u001b[1;32m    830\u001b[0m       \u001b[0mnew_tracing_count\u001b[0m \u001b[0;34m=\u001b[0m \u001b[0mself\u001b[0m\u001b[0;34m.\u001b[0m\u001b[0mexperimental_get_tracing_count\u001b[0m\u001b[0;34m(\u001b[0m\u001b[0;34m)\u001b[0m\u001b[0;34m\u001b[0m\u001b[0;34m\u001b[0m\u001b[0m\n",
      "\u001b[0;32m~/.local/lib/python3.6/site-packages/tensorflow/python/eager/def_function.py\u001b[0m in \u001b[0;36m_call\u001b[0;34m(self, *args, **kwds)\u001b[0m\n\u001b[1;32m    853\u001b[0m       \u001b[0;31m# In this case we have created variables on the first call, so we run the\u001b[0m\u001b[0;34m\u001b[0m\u001b[0;34m\u001b[0m\u001b[0;34m\u001b[0m\u001b[0m\n\u001b[1;32m    854\u001b[0m       \u001b[0;31m# defunned version which is guaranteed to never create variables.\u001b[0m\u001b[0;34m\u001b[0m\u001b[0;34m\u001b[0m\u001b[0;34m\u001b[0m\u001b[0m\n\u001b[0;32m--> 855\u001b[0;31m       \u001b[0;32mreturn\u001b[0m \u001b[0mself\u001b[0m\u001b[0;34m.\u001b[0m\u001b[0m_stateless_fn\u001b[0m\u001b[0;34m(\u001b[0m\u001b[0;34m*\u001b[0m\u001b[0margs\u001b[0m\u001b[0;34m,\u001b[0m \u001b[0;34m**\u001b[0m\u001b[0mkwds\u001b[0m\u001b[0;34m)\u001b[0m  \u001b[0;31m# pylint: disable=not-callable\u001b[0m\u001b[0;34m\u001b[0m\u001b[0;34m\u001b[0m\u001b[0m\n\u001b[0m\u001b[1;32m    856\u001b[0m     \u001b[0;32melif\u001b[0m \u001b[0mself\u001b[0m\u001b[0;34m.\u001b[0m\u001b[0m_stateful_fn\u001b[0m \u001b[0;32mis\u001b[0m \u001b[0;32mnot\u001b[0m \u001b[0;32mNone\u001b[0m\u001b[0;34m:\u001b[0m\u001b[0;34m\u001b[0m\u001b[0;34m\u001b[0m\u001b[0m\n\u001b[1;32m    857\u001b[0m       \u001b[0;31m# Release the lock early so that multiple threads can perform the call\u001b[0m\u001b[0;34m\u001b[0m\u001b[0;34m\u001b[0m\u001b[0;34m\u001b[0m\u001b[0m\n",
      "\u001b[0;32m~/.local/lib/python3.6/site-packages/tensorflow/python/eager/function.py\u001b[0m in \u001b[0;36m__call__\u001b[0;34m(self, *args, **kwargs)\u001b[0m\n\u001b[1;32m   2941\u001b[0m        filtered_flat_args) = self._maybe_define_function(args, kwargs)\n\u001b[1;32m   2942\u001b[0m     return graph_function._call_flat(\n\u001b[0;32m-> 2943\u001b[0;31m         filtered_flat_args, captured_inputs=graph_function.captured_inputs)  # pylint: disable=protected-access\n\u001b[0m\u001b[1;32m   2944\u001b[0m \u001b[0;34m\u001b[0m\u001b[0m\n\u001b[1;32m   2945\u001b[0m   \u001b[0;34m@\u001b[0m\u001b[0mproperty\u001b[0m\u001b[0;34m\u001b[0m\u001b[0;34m\u001b[0m\u001b[0m\n",
      "\u001b[0;32m~/.local/lib/python3.6/site-packages/tensorflow/python/eager/function.py\u001b[0m in \u001b[0;36m_call_flat\u001b[0;34m(self, args, captured_inputs, cancellation_manager)\u001b[0m\n\u001b[1;32m   1917\u001b[0m       \u001b[0;31m# No tape is watching; skip to running the function.\u001b[0m\u001b[0;34m\u001b[0m\u001b[0;34m\u001b[0m\u001b[0;34m\u001b[0m\u001b[0m\n\u001b[1;32m   1918\u001b[0m       return self._build_call_outputs(self._inference_function.call(\n\u001b[0;32m-> 1919\u001b[0;31m           ctx, args, cancellation_manager=cancellation_manager))\n\u001b[0m\u001b[1;32m   1920\u001b[0m     forward_backward = self._select_forward_and_backward_functions(\n\u001b[1;32m   1921\u001b[0m         \u001b[0margs\u001b[0m\u001b[0;34m,\u001b[0m\u001b[0;34m\u001b[0m\u001b[0;34m\u001b[0m\u001b[0m\n",
      "\u001b[0;32m~/.local/lib/python3.6/site-packages/tensorflow/python/eager/function.py\u001b[0m in \u001b[0;36mcall\u001b[0;34m(self, ctx, args, cancellation_manager)\u001b[0m\n\u001b[1;32m    558\u001b[0m               \u001b[0minputs\u001b[0m\u001b[0;34m=\u001b[0m\u001b[0margs\u001b[0m\u001b[0;34m,\u001b[0m\u001b[0;34m\u001b[0m\u001b[0;34m\u001b[0m\u001b[0m\n\u001b[1;32m    559\u001b[0m               \u001b[0mattrs\u001b[0m\u001b[0;34m=\u001b[0m\u001b[0mattrs\u001b[0m\u001b[0;34m,\u001b[0m\u001b[0;34m\u001b[0m\u001b[0;34m\u001b[0m\u001b[0m\n\u001b[0;32m--> 560\u001b[0;31m               ctx=ctx)\n\u001b[0m\u001b[1;32m    561\u001b[0m         \u001b[0;32melse\u001b[0m\u001b[0;34m:\u001b[0m\u001b[0;34m\u001b[0m\u001b[0;34m\u001b[0m\u001b[0m\n\u001b[1;32m    562\u001b[0m           outputs = execute.execute_with_cancellation(\n",
      "\u001b[0;32m~/.local/lib/python3.6/site-packages/tensorflow/python/eager/execute.py\u001b[0m in \u001b[0;36mquick_execute\u001b[0;34m(op_name, num_outputs, inputs, attrs, ctx, name)\u001b[0m\n\u001b[1;32m     58\u001b[0m     \u001b[0mctx\u001b[0m\u001b[0;34m.\u001b[0m\u001b[0mensure_initialized\u001b[0m\u001b[0;34m(\u001b[0m\u001b[0;34m)\u001b[0m\u001b[0;34m\u001b[0m\u001b[0;34m\u001b[0m\u001b[0m\n\u001b[1;32m     59\u001b[0m     tensors = pywrap_tfe.TFE_Py_Execute(ctx._handle, device_name, op_name,\n\u001b[0;32m---> 60\u001b[0;31m                                         inputs, attrs, num_outputs)\n\u001b[0m\u001b[1;32m     61\u001b[0m   \u001b[0;32mexcept\u001b[0m \u001b[0mcore\u001b[0m\u001b[0;34m.\u001b[0m\u001b[0m_NotOkStatusException\u001b[0m \u001b[0;32mas\u001b[0m \u001b[0me\u001b[0m\u001b[0;34m:\u001b[0m\u001b[0;34m\u001b[0m\u001b[0;34m\u001b[0m\u001b[0m\n\u001b[1;32m     62\u001b[0m     \u001b[0;32mif\u001b[0m \u001b[0mname\u001b[0m \u001b[0;32mis\u001b[0m \u001b[0;32mnot\u001b[0m \u001b[0;32mNone\u001b[0m\u001b[0;34m:\u001b[0m\u001b[0;34m\u001b[0m\u001b[0;34m\u001b[0m\u001b[0m\n",
      "\u001b[0;31mKeyboardInterrupt\u001b[0m: "
     ]
    }
   ],
   "source": [
    "hist = model.fit(\n",
    "    X, Y,\n",
    "    epochs = 50,\n",
    "    validation_split = 0.1,\n",
    "    batch_size = 512\n",
    ")"
   ]
  }
 ],
 "metadata": {
  "kernelspec": {
   "display_name": "Python 3.6.9 64-bit",
   "language": "python",
   "name": "python36964bite8c2268c4d7745c494921b3032b5f046"
  },
  "language_info": {
   "codemirror_mode": {
    "name": "ipython",
    "version": 3
   },
   "file_extension": ".py",
   "mimetype": "text/x-python",
   "name": "python",
   "nbconvert_exporter": "python",
   "pygments_lexer": "ipython3",
   "version": "3.6.9"
  }
 },
 "nbformat": 4,
 "nbformat_minor": 4
}

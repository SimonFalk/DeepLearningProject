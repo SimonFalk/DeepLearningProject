{
 "cells": [
  {
   "cell_type": "code",
   "execution_count": 2,
   "metadata": {},
   "outputs": [],
   "source": [
    "import scipy.io as sio\n",
    "import numpy as np\n",
    "import matplotlib.pyplot as plt\n",
    "from h5py import File as MLF\n",
    "from datamanager import DataLoader as DL"
   ]
  },
  {
   "cell_type": "code",
   "execution_count": 2,
   "metadata": {},
   "outputs": [
    {
     "name": "stdout",
     "output_type": "stream",
     "text": [
      "/media/big/BigDownloads\n"
     ]
    }
   ],
   "source": [
    "cd /media/big/BigDownloads"
   ]
  },
  {
   "cell_type": "code",
   "execution_count": 3,
   "metadata": {},
   "outputs": [
    {
     "name": "stdout",
     "output_type": "stream",
     "text": [
      "/media/big/BigDownloads/fcx-3\n"
     ]
    }
   ],
   "source": [
    "cd fcx-3"
   ]
  },
  {
   "cell_type": "code",
   "execution_count": 4,
   "metadata": {},
   "outputs": [
    {
     "name": "stdout",
     "output_type": "stream",
     "text": [
      "\u001b[0m\u001b[01;31manalysis_scripts.zip\u001b[0m               \u001b[01;31ms1.tar.gz\u001b[0m  \u001b[01;31ms6.tar.gz\u001b[0m\n",
      "crcns_fcx-3_data_description.docx  \u001b[01;31ms2.tar.gz\u001b[0m  \u001b[01;31ms7.tar.gz\u001b[0m\n",
      "crcns_fcx-3_data_description.pdf   \u001b[01;31ms3.tar.gz\u001b[0m  summary_channel_analysis.csv\n",
      "filelist.txt                       \u001b[01;31ms4.tar.gz\u001b[0m  summary_file.csv\n",
      "_README.txt                        \u001b[01;31ms5.tar.gz\u001b[0m\n"
     ]
    }
   ],
   "source": [
    "ls"
   ]
  },
  {
   "cell_type": "code",
   "execution_count": 3,
   "metadata": {},
   "outputs": [],
   "source": [
    "dl = DL()\n",
    "\n",
    "data = dl.get_fcx2()"
   ]
  },
  {
   "cell_type": "code",
   "execution_count": 5,
   "metadata": {},
   "outputs": [
    {
     "name": "stdout",
     "output_type": "stream",
     "text": [
      "s1\n",
      "s2\n",
      "s3\n",
      "s4\n",
      "s5\n",
      "s6\n",
      "s7\n",
      "s8\n",
      "s9\n",
      "s10\n"
     ]
    }
   ],
   "source": [
    "for k, v in data.items():\n",
    "    print(k)\n",
    "    s = v['data']\n",
    "    for chan in s.T:\n",
    "        pass\n",
    "        # Uncomment to observe\n",
    "        \n",
    "#         plt.figure(figsize = (20, 3))\n",
    "#         plt.plot(chan)\n",
    "#         plt.show()"
   ]
  }
 ],
 "metadata": {
  "kernelspec": {
   "display_name": "Python 3.6.9 64-bit",
   "language": "python",
   "name": "python36964bite8c2268c4d7745c494921b3032b5f046"
  },
  "language_info": {
   "codemirror_mode": {
    "name": "ipython",
    "version": 3
   },
   "file_extension": ".py",
   "mimetype": "text/x-python",
   "name": "python",
   "nbconvert_exporter": "python",
   "pygments_lexer": "ipython3",
   "version": "3.6.9"
  }
 },
 "nbformat": 4,
 "nbformat_minor": 4
}

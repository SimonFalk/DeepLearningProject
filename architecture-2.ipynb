{
 "cells": [
  {
   "cell_type": "code",
   "execution_count": 1,
   "metadata": {},
   "outputs": [],
   "source": [
    "import numpy as np\n",
    "import scipy as sp\n",
    "import scipy.signal as sig\n",
    "import matplotlib.pyplot as plt\n",
    "import tensorflow as tf\n",
    "import tensorflow.keras as keras\n",
    "from tensorflow.keras import layers, regularizers, callbacks\n",
    "from data_wrangling.datamanager import DataLoader\n",
    "import pickle\n",
    "import sys"
   ]
  },
  {
   "cell_type": "code",
   "execution_count": 7,
   "metadata": {},
   "outputs": [],
   "source": [
    "dl = DataLoader()\n",
    "data = dl.get_fcx2(['s1'])"
   ]
  },
  {
   "cell_type": "code",
   "execution_count": 8,
   "metadata": {},
   "outputs": [
    {
     "data": {
      "text/plain": [
       "(1303952, 73)"
      ]
     },
     "execution_count": 8,
     "metadata": {},
     "output_type": "execute_result"
    }
   ],
   "source": [
    "X1 = data['s1']['data']\n",
    "mn = X1.mean(0).reshape((1, -1))\n",
    "st = X1.std (0).reshape((1, -1))\n",
    "X1 = (X1 - mn) / st\n",
    "X1.shape"
   ]
  },
  {
   "cell_type": "code",
   "execution_count": 11,
   "metadata": {},
   "outputs": [
    {
     "data": {
      "text/plain": [
       "((45633, 100, 73), (45633, 10, 73))"
      ]
     },
     "execution_count": 11,
     "metadata": {},
     "output_type": "execute_result"
    }
   ],
   "source": [
    "fs = 1000\n",
    "\n",
    "idxs_train_test_split = int(len(X1) * 0.7)\n",
    "\n",
    "p_in  = 100\n",
    "p_out = 10\n",
    "\n",
    "step  = 20 \n",
    "\n",
    "idxs_train = np.arange(0, idxs_train_test_split - p_out - p_in, step)\n",
    "\n",
    "X = np.stack([\n",
    "    X1[idx : idx + p_in]\n",
    "    for idx in idxs_train\n",
    "])\n",
    "\n",
    "Y = np.stack([\n",
    "    X1[idx + p_in : idx + p_in + p_out]\n",
    "    for idx in idxs_train\n",
    "])\n",
    "\n",
    "X.shape, Y.shape"
   ]
  },
  {
   "cell_type": "code",
   "execution_count": 44,
   "metadata": {},
   "outputs": [
    {
     "name": "stdout",
     "output_type": "stream",
     "text": [
      "Model: \"sequential_9\"\n",
      "_________________________________________________________________\n",
      "Layer (type)                 Output Shape              Param #   \n",
      "=================================================================\n",
      "bidirectional_10 (Bidirectio (None, 100, 128)          70656     \n",
      "_________________________________________________________________\n",
      "lambda_8 (Lambda)            (None, 10, 128)           0         \n",
      "_________________________________________________________________\n",
      "dense_7 (Dense)              (None, 10, 128)           16512     \n",
      "_________________________________________________________________\n",
      "batch_normalization_1 (Batch (None, 10, 128)           512       \n",
      "_________________________________________________________________\n",
      "re_lu_1 (ReLU)               (None, 10, 128)           0         \n",
      "_________________________________________________________________\n",
      "dense_8 (Dense)              (None, 10, 73)            9417      \n",
      "=================================================================\n",
      "Total params: 97,097\n",
      "Trainable params: 96,841\n",
      "Non-trainable params: 256\n",
      "_________________________________________________________________\n"
     ]
    }
   ],
   "source": [
    "model = keras.Sequential([\n",
    "    layers.Input(X.shape[1:]),\n",
    "    layers.Bidirectional(\n",
    "        layers.LSTM(\n",
    "            64, \n",
    "            return_sequences = True\n",
    "        )\n",
    "    ),\n",
    "    layers.Lambda(lambda inputs: inputs[:, -p_out:, :]),\n",
    "    layers.Dense(128),\n",
    "    layers.BatchNormalization(),\n",
    "    layers.ReLU(),\n",
    "    layers.Dense(Y.shape[-1])\n",
    "])\n",
    "\n",
    "model.compile(loss = 'mse', optimizer = 'adam')\n",
    "model.summary()"
   ]
  },
  {
   "cell_type": "code",
   "execution_count": 45,
   "metadata": {},
   "outputs": [
    {
     "name": "stdout",
     "output_type": "stream",
     "text": [
      "Epoch 1/50\n",
      "18/18 [==============================] - 4s 131ms/step - loss: 1.1972 - val_loss: 0.7250\n",
      "Epoch 2/50\n",
      "18/18 [==============================] - 2s 102ms/step - loss: 0.4966 - val_loss: 0.5628\n",
      "Epoch 3/50\n",
      "18/18 [==============================] - 2s 101ms/step - loss: 0.3716 - val_loss: 0.5064\n",
      "Epoch 4/50\n",
      "18/18 [==============================] - 2s 101ms/step - loss: 0.3086 - val_loss: 0.4699\n",
      "Epoch 5/50\n",
      "18/18 [==============================] - 2s 114ms/step - loss: 0.2734 - val_loss: 0.4505\n",
      "Epoch 6/50\n",
      "18/18 [==============================] - 2s 103ms/step - loss: 0.2472 - val_loss: 0.4375\n",
      "Epoch 7/50\n",
      "18/18 [==============================] - 2s 103ms/step - loss: 0.2268 - val_loss: 0.4175\n",
      "Epoch 8/50\n",
      "18/18 [==============================] - 2s 105ms/step - loss: 0.2128 - val_loss: 0.4097\n",
      "Epoch 9/50\n",
      "18/18 [==============================] - 2s 103ms/step - loss: 0.1994 - val_loss: 0.4006\n",
      "Epoch 10/50\n",
      "18/18 [==============================] - 2s 103ms/step - loss: 0.1885 - val_loss: 0.3905\n",
      "Epoch 11/50\n",
      "18/18 [==============================] - 2s 103ms/step - loss: 0.1807 - val_loss: 0.3773\n",
      "Epoch 12/50\n",
      "18/18 [==============================] - 2s 103ms/step - loss: 0.1717 - val_loss: 0.3658\n",
      "Epoch 13/50\n",
      "18/18 [==============================] - 2s 103ms/step - loss: 0.1645 - val_loss: 0.3381\n",
      "Epoch 14/50\n",
      "18/18 [==============================] - 2s 103ms/step - loss: 0.1578 - val_loss: 0.3320\n",
      "Epoch 15/50\n",
      "18/18 [==============================] - 2s 104ms/step - loss: 0.1523 - val_loss: 0.3074\n",
      "Epoch 16/50\n",
      "18/18 [==============================] - 2s 103ms/step - loss: 0.1460 - val_loss: 0.2934\n",
      "Epoch 17/50\n",
      "18/18 [==============================] - 2s 105ms/step - loss: 0.1422 - val_loss: 0.2732\n",
      "Epoch 18/50\n",
      "18/18 [==============================] - 2s 105ms/step - loss: 0.1368 - val_loss: 0.2611\n",
      "Epoch 19/50\n",
      "18/18 [==============================] - 2s 104ms/step - loss: 0.1331 - val_loss: 0.2547\n",
      "Epoch 20/50\n",
      "18/18 [==============================] - 2s 105ms/step - loss: 0.1305 - val_loss: 0.2381\n",
      "Epoch 21/50\n",
      "18/18 [==============================] - 2s 106ms/step - loss: 0.1275 - val_loss: 0.2317\n",
      "Epoch 22/50\n",
      "18/18 [==============================] - 2s 105ms/step - loss: 0.1250 - val_loss: 0.2173\n",
      "Epoch 23/50\n",
      "18/18 [==============================] - 2s 107ms/step - loss: 0.1223 - val_loss: 0.2138\n",
      "Epoch 24/50\n",
      "18/18 [==============================] - 2s 105ms/step - loss: 0.1197 - val_loss: 0.1981\n",
      "Epoch 25/50\n",
      "18/18 [==============================] - 2s 104ms/step - loss: 0.1162 - val_loss: 0.1935\n",
      "Epoch 26/50\n",
      "18/18 [==============================] - 2s 104ms/step - loss: 0.1140 - val_loss: 0.1780\n",
      "Epoch 27/50\n",
      "18/18 [==============================] - 2s 106ms/step - loss: 0.1120 - val_loss: 0.1738\n",
      "Epoch 28/50\n",
      "18/18 [==============================] - 2s 107ms/step - loss: 0.1098 - val_loss: 0.1642\n",
      "Epoch 29/50\n",
      "18/18 [==============================] - 2s 104ms/step - loss: 0.1083 - val_loss: 0.1594\n",
      "Epoch 30/50\n",
      "18/18 [==============================] - 2s 105ms/step - loss: 0.1066 - val_loss: 0.1561\n",
      "Epoch 31/50\n",
      "18/18 [==============================] - 2s 107ms/step - loss: 0.1044 - val_loss: 0.1511\n",
      "Epoch 32/50\n",
      "18/18 [==============================] - 2s 104ms/step - loss: 0.1037 - val_loss: 0.1449\n",
      "Epoch 33/50\n",
      "18/18 [==============================] - 2s 104ms/step - loss: 0.1012 - val_loss: 0.1386\n",
      "Epoch 34/50\n",
      "18/18 [==============================] - 2s 107ms/step - loss: 0.0993 - val_loss: 0.1345\n",
      "Epoch 35/50\n",
      "18/18 [==============================] - 2s 104ms/step - loss: 0.0978 - val_loss: 0.1329\n",
      "Epoch 36/50\n",
      "18/18 [==============================] - 2s 105ms/step - loss: 0.0968 - val_loss: 0.1290\n",
      "Epoch 37/50\n",
      "18/18 [==============================] - 2s 104ms/step - loss: 0.0954 - val_loss: 0.1246\n",
      "Epoch 38/50\n",
      "18/18 [==============================] - 2s 104ms/step - loss: 0.0940 - val_loss: 0.1263\n",
      "Epoch 39/50\n",
      "18/18 [==============================] - 2s 106ms/step - loss: 0.0927 - val_loss: 0.1185\n",
      "Epoch 40/50\n",
      "18/18 [==============================] - 2s 105ms/step - loss: 0.0914 - val_loss: 0.1179\n",
      "Epoch 41/50\n",
      "18/18 [==============================] - 2s 107ms/step - loss: 0.0911 - val_loss: 0.1159\n",
      "Epoch 42/50\n",
      "18/18 [==============================] - 2s 105ms/step - loss: 0.0906 - val_loss: 0.1137\n",
      "Epoch 43/50\n",
      "18/18 [==============================] - 2s 105ms/step - loss: 0.0892 - val_loss: 0.1126\n",
      "Epoch 44/50\n",
      "18/18 [==============================] - 2s 104ms/step - loss: 0.0884 - val_loss: 0.1128\n",
      "Epoch 45/50\n",
      "18/18 [==============================] - 2s 105ms/step - loss: 0.0874 - val_loss: 0.1108\n",
      "Epoch 46/50\n",
      "18/18 [==============================] - 2s 104ms/step - loss: 0.0868 - val_loss: 0.1069\n",
      "Epoch 47/50\n",
      "18/18 [==============================] - 2s 106ms/step - loss: 0.0859 - val_loss: 0.1050\n",
      "Epoch 48/50\n",
      "18/18 [==============================] - 2s 107ms/step - loss: 0.0849 - val_loss: 0.1051\n",
      "Epoch 49/50\n",
      "18/18 [==============================] - 2s 105ms/step - loss: 0.0847 - val_loss: 0.1056\n"
     ]
    }
   ],
   "source": [
    "hist = model.fit(\n",
    "    X_train,\n",
    "    Y_train,\n",
    "    epochs = 50,\n",
    "    batch_size = 2048,\n",
    "    validation_split = 0.2,\n",
    "    callbacks = [callbacks.EarlyStopping(min_delta = 1e-3, patience = 2)]\n",
    ")"
   ]
  }
 ],
 "metadata": {
  "kernelspec": {
   "display_name": "Python 3.6.9 64-bit",
   "language": "python",
   "name": "python36964bite8c2268c4d7745c494921b3032b5f046"
  },
  "language_info": {
   "codemirror_mode": {
    "name": "ipython",
    "version": 3
   },
   "file_extension": ".py",
   "mimetype": "text/x-python",
   "name": "python",
   "nbconvert_exporter": "python",
   "pygments_lexer": "ipython3",
   "version": "3.6.9"
  }
 },
 "nbformat": 4,
 "nbformat_minor": 4
}
